{
 "cells": [
  {
   "cell_type": "code",
   "execution_count": 1,
   "metadata": {},
   "outputs": [
    {
     "name": "stdout",
     "output_type": "stream",
     "text": [
      "     X    Y\n",
      "0   76   74\n",
      "1   38  133\n",
      "2   71   98\n",
      "3   94  132\n",
      "4   52   69\n",
      "5   39   81\n",
      "6   73  109\n",
      "7   54   83\n",
      "8   97  149\n",
      "9   74   73\n",
      "10  78   65\n",
      "11  49  132\n",
      "12  65   60\n",
      "13  81   89\n",
      "14  36   63\n",
      "15  69   89\n",
      "16  61   93\n",
      "17  72  115\n",
      "18  94   95\n",
      "19  91   81\n",
      "20  83  113\n",
      "21  95  144\n",
      "22  58   62\n",
      "23  43  102\n",
      "24  65  113\n",
      "25  80  147\n",
      "26  60   76\n",
      "27  40   72\n",
      "28  44   83\n",
      "29  43   74\n",
      "30  66  100\n",
      "31  70  118\n",
      "32  41   73\n",
      "33  97   90\n",
      "34  98   80\n",
      "35  92  114\n",
      "36  64  142\n",
      "37  47  138\n",
      "38  83   65\n",
      "39  87  139\n",
      "40  70   73\n",
      "41  88  119\n",
      "42  37  112\n",
      "43  87   65\n",
      "44  41  107\n",
      "45  65   62\n",
      "46  48   87\n",
      "47  93  125\n",
      "48  42  143\n",
      "49  87  104\n"
     ]
    }
   ],
   "source": [
    "import numpy as np\n",
    "from pandas import DataFrame\n",
    "Data={'X' : np.random.randint(30,100,50),\n",
    "'Y' : np.random.randint(60,150,50)}\n",
    "df = DataFrame(Data,columns=['X','Y'])\n",
    "print(df)"
   ]
  },
  {
   "cell_type": "code",
   "execution_count": 2,
   "metadata": {},
   "outputs": [
    {
     "name": "stdout",
     "output_type": "stream",
     "text": [
      "[[ 47.6875      83.5625    ]\n",
      " [ 74.52631579 127.84210526]\n",
      " [ 79.93333333  77.26666667]]\n"
     ]
    },
    {
     "data": {
      "image/png": "[encoded data removed]",
      "text/plain": [
       "<Figure size 432x288 with 1 Axes>"
      ]
     },
     "metadata": {
      "needs_background": "light"
     },
     "output_type": "display_data"
    }
   ],
   "source": [
    "import matplotlib.pyplot as plt\n",
    "from sklearn.cluster import KMeans\n",
    "\n",
    "\n",
    "kmeans = KMeans(n_clusters=3).fit(df)\n",
    "centroids = kmeans.cluster_centers_\n",
    "print(centroids)\n",
    "\n",
    "plt.scatter(df['X'], df['Y'], c= kmeans.labels_.astype(float), s=50, alpha=0.5)\n",
    "plt.scatter(centroids[:, 0], centroids[:, 1], c='red', s=50)\n",
    "plt.show()"
   ]
  },
  {
   "cell_type": "code",
   "execution_count": null,
   "metadata": {},
   "outputs": [],
   "source": [
    "import tkinter as tk\n",
    "from matplotlib.backends.backend_tkagg import FigureCanvasTkAgg\n",
    "  \n",
    "\n",
    "root= tk.Tk()\n",
    "\n",
    "canvas1 = tk.Canvas(root, width = 100, height = 100)\n",
    "canvas1.pack()\n",
    "\n",
    "label1 = tk.Label(root, text=centroids, justify = 'center')\n",
    "canvas1.create_window(80, 60, window=label1)\n",
    "\n",
    "figure1 = plt.Figure(figsize=(5,4), dpi=100)\n",
    "ax1 = figure1.add_subplot(111)\n",
    "ax1.scatter(df['X'], df['Y'], c= kmeans.labels_.astype(float), s=50, alpha=0.5)\n",
    "ax1.scatter(centroids[:, 0], centroids[:, 1], c='red', s=50)\n",
    "scatter1 = FigureCanvasTkAgg(figure1, root) \n",
    "scatter1.get_tk_widget().pack(side=tk.LEFT, fill=tk.BOTH)\n",
    "\n",
    "root.mainloop()"
   ]
  },
  {
   "cell_type": "code",
   "execution_count": null,
   "metadata": {},
   "outputs": [],
   "source": []
  }
 ],
 "metadata": {
  "kernelspec": {
   "display_name": "Python 3",
   "language": "python",
   "name": "python3"
  },
  "language_info": {
   "codemirror_mode": {
    "name": "ipython",
    "version": 3
   },
   "file_extension": ".py",
   "mimetype": "text/x-python",
   "name": "python",
   "nbconvert_exporter": "python",
   "pygments_lexer": "ipython3",
   "version": "3.8.5"
  }
 },
 "nbformat": 4,
 "nbformat_minor": 4
}
